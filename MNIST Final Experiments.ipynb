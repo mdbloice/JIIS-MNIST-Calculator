{
 "cells": [
  {
   "cell_type": "markdown",
   "metadata": {},
   "source": [
    "# MNIST Calculator\n",
    "\n",
    "This notebook can be used to reproduce all the experiments for the paper _Performing arithmetic using a neural network trained on combinations of hand written digits_. \n",
    "\n",
    "First we import the packages we require, including scikit-learn and Keras. "
   ]
  },
  {
   "cell_type": "code",
   "execution_count": 1,
   "metadata": {},
   "outputs": [
    {
     "name": "stderr",
     "output_type": "stream",
     "text": [
      "Using TensorFlow backend.\n"
     ]
    }
   ],
   "source": [
    "# Keras imports for the convolutional neural network for later.\n",
    "from keras.datasets import mnist\n",
    "from keras.models import Sequential\n",
    "from keras.layers import Dense, Dropout, Flatten\n",
    "from keras.layers import Conv2D, MaxPooling2D\n",
    "from keras import backend as K\n",
    "from keras import losses\n",
    "from keras import optimizers\n",
    "from keras import callbacks\n",
    "\n",
    "# Additional packages\n",
    "from PIL import Image\n",
    "import glob\n",
    "import os\n",
    "import numpy as np\n",
    "from sklearn import utils  # Used for utils.shuffle() that can shuffle data + labels in unison.\n",
    "from sklearn.model_selection import KFold\n",
    "from tabulate import tabulate\n",
    "import IPython.display as dp\n",
    "import matplotlib.pyplot as plt\n",
    "plt.rcParams['figure.figsize'] = (18, 6)\n",
    "%matplotlib inline\n",
    "from scipy.stats import itemfreq\n",
    "from math import floor, ceil\n",
    "\n",
    "# We can set a seed so that those wishing to reproduce the experiment\n",
    "import random\n",
    "#random.seed(376483)"
   ]
  },
  {
   "cell_type": "code",
   "execution_count": null,
   "metadata": {},
   "outputs": [],
   "source": [
    "from tensorflow.python.client import device_lib\n",
    "print(device_lib.list_local_devices())"
   ]
  },
  {
   "cell_type": "markdown",
   "metadata": {},
   "source": [
    "## Load and Generate Training and Test Data\n",
    "\n",
    "We will use scikit-learn's built-in MNIST data for generating the data for these experiments."
   ]
  },
  {
   "cell_type": "code",
   "execution_count": 2,
   "metadata": {
    "collapsed": true
   },
   "outputs": [],
   "source": [
    "(X_train_keras, y_train_keras), (X_test_keras, y_test_keras) = mnist.load_data()"
   ]
  },
  {
   "cell_type": "markdown",
   "metadata": {},
   "source": [
    "We can take a look at an image from the dataset like so"
   ]
  },
  {
   "cell_type": "code",
   "execution_count": 3,
   "metadata": {},
   "outputs": [
    {
     "data": {
      "image/png": "[encoded data removed]",
      "text/plain": [
       "<PIL.Image.Image image mode=L size=28x28 at 0x7F4E34751410>"
      ]
     },
     "execution_count": 3,
     "metadata": {},
     "output_type": "execute_result"
    }
   ],
   "source": [
    "Image.fromarray(X_train_keras[0])"
   ]
  },
  {
   "cell_type": "markdown",
   "metadata": {},
   "source": [
    "MNIST images are $28 \\times 28$ pixels in size, and the combined images that will be used for training and testing will be two MNIST images placed side by side. The dimensions of a single MNIST image can be seen as follows:"
   ]
  },
  {
   "cell_type": "code",
   "execution_count": 4,
   "metadata": {},
   "outputs": [
    {
     "data": {
      "text/plain": [
       "(28, 28)"
      ]
     },
     "execution_count": 4,
     "metadata": {},
     "output_type": "execute_result"
    }
   ],
   "source": [
    "X_train_keras[0].shape"
   ]
  },
  {
   "cell_type": "markdown",
   "metadata": {},
   "source": [
    "Therefore, the images used in this experiment will be $28 \\times 56$ in size. \n",
    "\n",
    "To demonstrate how the combined images look, we can make a random combination and display it inline. First we create an empty $28 \\times 56$ image matrix and then populate it with two images from the training set:"
   ]
  },
  {
   "cell_type": "code",
   "execution_count": 3,
   "metadata": {},
   "outputs": [
    {
     "data": {
      "image/png": "[encoded data removed]",
      "text/plain": [
       "<PIL.Image.Image image mode=L size=56x28 at 0x7FDDB83C8150>"
      ]
     },
     "execution_count": 3,
     "metadata": {},
     "output_type": "execute_result"
    }
   ],
   "source": [
    "# Create an empty 28 * 56 element matrix:\n",
    "test_image = np.zeros((28,56), dtype=\"uint8\")\n",
    "\n",
    "# Populate the empty matrix with data from two image matrices from the training set:\n",
    "test_image[:,:28] = X_train_keras[0]\n",
    "test_image[:,28:] = X_train_keras[1]\n",
    "Image.fromarray(test_image)"
   ]
  },
  {
   "cell_type": "markdown",
   "metadata": {},
   "source": [
    "As can be seen, to generate the data we merely combine two MNIST images into one image.\n",
    "\n",
    "Now we generate our trainging pairs and test pairs indices. \n",
    "\n",
    "For the digits 0-9, there are 100 possible combinations of digits. More formally, we can say that the left side image can consist of the digits 0-9: $S_l = \\{0,1,2,3,4,5,6,7,8,9\\}$ and the right side consist of images from the set $S_r = \\{0,1,2,3,4,5,6,7,8,9\\}$. The total possible number of combinations is the Cartesian product of the two sets $D = S_l \\times S_r$. \n",
    "\n",
    "Here we first generate all possible pairs of combinations and then randomly select 90% of these for the training set and the remainign 10% are used for the test set."
   ]
  },
  {
   "cell_type": "code",
   "execution_count": 4,
   "metadata": {
    "collapsed": true
   },
   "outputs": [],
   "source": [
    "# Generate the 100 unique pairs\n",
    "unique_pairs = [str(x)+str(y) for x in range(10) for y in range(10)]\n",
    "\n",
    "# Create 10 test set pairs\n",
    "test_set_pairs = []\n",
    "\n",
    "while(len(test_set_pairs) < 10):\n",
    "    pair_to_add = random.choice(unique_pairs)\n",
    "    if pair_to_add not in test_set_pairs:\n",
    "        test_set_pairs.append(pair_to_add)\n",
    "\n",
    "#Use the remaining 90 as training set pairs\n",
    "train_set_pairs = list(set(unique_pairs) - set(test_set_pairs))"
   ]
  },
  {
   "cell_type": "markdown",
   "metadata": {},
   "source": [
    "We can view the test set and training set pairs to ensure there is no overlap between the two data sets. These will be used later to generate the training and test data (they will be used as indices).\n",
    "\n",
    "The test looks as follows:"
   ]
  },
  {
   "cell_type": "code",
   "execution_count": 7,
   "metadata": {},
   "outputs": [
    {
     "name": "stdout",
     "output_type": "stream",
     "text": [
      "['51', '02', '30', '65', '97', '95', '98', '82', '54', '34']\n"
     ]
    }
   ],
   "source": [
    "print(test_set_pairs)"
   ]
  },
  {
   "cell_type": "code",
   "execution_count": 8,
   "metadata": {},
   "outputs": [
    {
     "name": "stdout",
     "output_type": "stream",
     "text": [
      "['24', '25', '26', '27', '20', '21', '22', '23', '28', '29', '59', '58', '55', '57', '56', '50', '53', '52', '88', '89', '83', '80', '81', '86', '87', '84', '85', '03', '00', '01', '06', '07', '04', '05', '08', '09', '39', '38', '33', '32', '31', '37', '36', '35', '60', '61', '62', '63', '64', '66', '67', '68', '69', '99', '91', '90', '93', '92', '94', '96', '11', '10', '13', '12', '15', '14', '17', '16', '19', '18', '48', '49', '46', '47', '44', '45', '42', '43', '40', '41', '77', '76', '75', '74', '73', '72', '71', '70', '79', '78']\n"
     ]
    }
   ],
   "source": [
    "print(train_set_pairs)"
   ]
  },
  {
   "cell_type": "code",
   "execution_count": 9,
   "metadata": {},
   "outputs": [
    {
     "name": "stdout",
     "output_type": "stream",
     "text": [
      "['00', '01', '02', '03', '04', '05', '06', '07', '08', '09', '10', '11', '12', '13', '14', '15', '16', '17', '18', '19', '20', '21', '22', '23', '24', '25', '26', '27', '28', '29', '30', '31', '32', '33', '34', '35', '36', '37', '38', '39', '40', '41', '42', '43', '44', '45', '46', '47', '48', '49', '50', '51', '52', '53', '54', '55', '56', '57', '58', '59', '60', '61', '62', '63', '64', '65', '66', '67', '68', '69', '70', '71', '72', '73', '74', '75', '76', '77', '78', '79', '80', '81', '82', '83', '84', '85', '86', '87', '88', '89', '90', '91', '92', '93', '94', '95', '96', '97', '98', '99']\n"
     ]
    }
   ],
   "source": [
    "print(unique_pairs)"
   ]
  },
  {
   "cell_type": "markdown",
   "metadata": {},
   "source": [
    "## Ten Fold Cross Validation\n",
    "\n",
    "Perform a 10-fold cross validation of the experiment. "
   ]
  },
  {
   "cell_type": "code",
   "execution_count": 10,
   "metadata": {},
   "outputs": [
    {
     "name": "stdout",
     "output_type": "stream",
     "text": [
      "RUN 0\n",
      "10000/10000 [==============================] - 2s 178us/step\n",
      "0.701783894992\n",
      "Correct (rounded): 8119, Incorrect (rounded): 1881\n",
      "Correct (floor/ceiling): 8551, Incorrect (floor/ceiling): 1449\n",
      "Correct (leeway): 9493, Incorrect (leeway): 507\n",
      "END 0\n",
      "\n",
      "RUN 1\n",
      "10000/10000 [==============================] - 2s 178us/step\n",
      "0.813004768658\n",
      "Correct (rounded): 4300, Incorrect (rounded): 5700\n",
      "Correct (floor/ceiling): 9089, Incorrect (floor/ceiling): 911\n",
      "Correct (leeway): 9623, Incorrect (leeway): 377\n",
      "END 1\n",
      "\n",
      "RUN 2\n",
      "10000/10000 [==============================] - 2s 179us/step\n",
      "0.757855157781\n",
      "Correct (rounded): 8095, Incorrect (rounded): 1905\n",
      "Correct (floor/ceiling): 8695, Incorrect (floor/ceiling): 1305\n",
      "Correct (leeway): 9512, Incorrect (leeway): 488\n",
      "END 2\n",
      "\n",
      "RUN 3\n",
      "10000/10000 [==============================] - 2s 180us/step\n",
      "1.09523425932\n",
      "Correct (rounded): 5508, Incorrect (rounded): 4492\n",
      "Correct (floor/ceiling): 7121, Incorrect (floor/ceiling): 2879\n",
      "Correct (leeway): 8656, Incorrect (leeway): 1344\n",
      "END 3\n",
      "\n",
      "RUN 4\n",
      "10000/10000 [==============================] - 2s 179us/step\n",
      "0.694715266299\n",
      "Correct (rounded): 8235, Incorrect (rounded): 1765\n",
      "Correct (floor/ceiling): 9356, Incorrect (floor/ceiling): 644\n",
      "Correct (leeway): 9528, Incorrect (leeway): 472\n",
      "END 4\n",
      "\n",
      "RUN 5\n",
      "10000/10000 [==============================] - 2s 180us/step\n",
      "0.431905881453\n",
      "Correct (rounded): 9223, Incorrect (rounded): 777\n",
      "Correct (floor/ceiling): 9549, Incorrect (floor/ceiling): 451\n",
      "Correct (leeway): 9676, Incorrect (leeway): 324\n",
      "END 5\n",
      "\n",
      "RUN 6\n",
      "10000/10000 [==============================] - 2s 180us/step\n",
      "0.831219066906\n",
      "Correct (rounded): 5432, Incorrect (rounded): 4568\n",
      "Correct (floor/ceiling): 8694, Incorrect (floor/ceiling): 1306\n",
      "Correct (leeway): 9538, Incorrect (leeway): 462\n",
      "END 6\n",
      "\n",
      "RUN 7\n",
      "10000/10000 [==============================] - 2s 180us/step\n",
      "0.579938846898\n",
      "Correct (rounded): 7486, Incorrect (rounded): 2514\n",
      "Correct (floor/ceiling): 9471, Incorrect (floor/ceiling): 529\n",
      "Correct (leeway): 9667, Incorrect (leeway): 333\n",
      "END 7\n",
      "\n",
      "RUN 8\n",
      "10000/10000 [==============================] - 2s 181us/step\n",
      "0.578246696866\n",
      "Correct (rounded): 8759, Incorrect (rounded): 1241\n",
      "Correct (floor/ceiling): 9433, Incorrect (floor/ceiling): 567\n",
      "Correct (leeway): 9591, Incorrect (leeway): 409\n",
      "END 8\n",
      "\n",
      "RUN 9\n",
      "10000/10000 [==============================] - 2s 181us/step\n",
      "0.753974978352\n",
      "Correct (rounded): 5748, Incorrect (rounded): 4252\n",
      "Correct (floor/ceiling): 8553, Incorrect (floor/ceiling): 1447\n",
      "Correct (leeway): 9623, Incorrect (leeway): 377\n",
      "END 9\n",
      "\n"
     ]
    }
   ],
   "source": [
    "unique_pairs = [str(x)+str(y) for x in range(10) for y in range(10)]\n",
    "train_counter = 0\n",
    "\n",
    "(X_train_keras, y_train_keras), (X_test_keras, y_test_keras) = mnist.load_data()\n",
    "\n",
    "kf = KFold(n_splits=10, shuffle=True, random_state=376483)\n",
    "kf.get_n_splits(unique_pairs)\n",
    "\n",
    "unique_pairs_np = np.asarray(unique_pairs)\n",
    "# Store network performance history and score for each of the 10 training runs.\n",
    "histories = []\n",
    "scores = []\n",
    "\n",
    "# Store accuracies measured in various ways\n",
    "accuracies_rounded = []\n",
    "accuracies_floor_ceil = []\n",
    "accuracies_leeway = []\n",
    "\n",
    "\n",
    "for train_index, test_index in kf.split(unique_pairs):\n",
    "    test_set_pairs = unique_pairs_np[test_index]\n",
    "    train_set_pairs = unique_pairs_np[train_index]\n",
    "    \n",
    "    # Sanity checks\n",
    "    assert(len(test_set_pairs) == 10)\n",
    "    assert(len(train_set_pairs) == 90)\n",
    "    for test_set_pair in test_set_pairs:\n",
    "        assert(test_set_pair not in train_set_pairs)\n",
    "    \n",
    "    # If these pass we are good to go with data generation\n",
    "    X_train = []\n",
    "    y_train = []\n",
    "\n",
    "    # Number of samples per permutation (e.g. there are 90 permutations in the train \n",
    "    # set so 1000*90 makes 90,000 training samples and 10*1000=10,000 test samples)\n",
    "    samples_per_permutation = 2000  \n",
    "\n",
    "    for train_set_pair in train_set_pairs:\n",
    "        for _ in range(samples_per_permutation):\n",
    "            rand_i = np.random.choice(np.where(y_train_keras == int(train_set_pair[0]))[0])\n",
    "            rand_j = np.random.choice(np.where(y_train_keras == int(train_set_pair[1]))[0])\n",
    "        \n",
    "            temp_image = np.zeros((28,56), dtype=\"uint8\")\n",
    "            temp_image[:,:28] = X_train_keras[rand_i]\n",
    "            temp_image[:,28:] = X_train_keras[rand_j]\n",
    "\n",
    "            X_train.append(temp_image)\n",
    "            y_train.append(y_train_keras[rand_i] + y_train_keras[rand_j])\n",
    "        \n",
    "    X_test = []\n",
    "    y_test = []\n",
    "\n",
    "    samples_per_permutation = 1000\n",
    "    \n",
    "    for test_set_pair in test_set_pairs:\n",
    "        for _ in range(samples_per_permutation):\n",
    "            rand_i = np.random.choice(np.where(y_test_keras == int(test_set_pair[0]))[0])\n",
    "            rand_j = np.random.choice(np.where(y_test_keras == int(test_set_pair[1]))[0])\n",
    "        \n",
    "            temp_image = np.zeros((28,56), dtype=\"uint8\")\n",
    "            temp_image[:,:28] = X_test_keras[rand_i]\n",
    "            temp_image[:,28:] = X_test_keras[rand_j]\n",
    "            \n",
    "            X_test.append(temp_image)\n",
    "            y_test.append(y_test_keras[rand_i] + y_test_keras[rand_j])\n",
    "    \n",
    "    \n",
    "    # Explicitly convert to Numpy arrays, as everything will expect them later\n",
    "    X_train = np.asarray(X_train)\n",
    "    y_train = np.asarray(y_train)\n",
    "    X_test = np.asarray(X_test)\n",
    "    y_test = np.asarray(y_test)\n",
    "\n",
    "    # Reshape the data sets to a format suitable for Keras\n",
    "    X_train = X_train.reshape(X_train.shape[0], X_train.shape[1], X_train.shape[2], 1)\n",
    "    X_test = X_test.reshape(X_test.shape[0], X_test.shape[1], X_test.shape[2], 1)\n",
    "    \n",
    "    # Some standard preprocessing things here.\n",
    "    # Reformat the images to use floating point values rather than integers between 0-255\n",
    "    X_train = X_train.astype('float32')\n",
    "    X_test = X_test.astype('float32')\n",
    "    X_train /= 255\n",
    "    X_test /= 255\n",
    "    \n",
    "    # Shuffling is always wise\n",
    "    X_train, y_train = utils.shuffle(X_train, y_train)\n",
    "    X_test, y_test = utils.shuffle(X_test, y_test)\n",
    "    \n",
    "    ######################################################\n",
    "    # NETWORK SETUP AND TRAINING\n",
    "    ######################################################\n",
    "    # Set up a few constants related to the size of the \n",
    "    # network, number of output classes and so on.\n",
    "    batch_size = 128\n",
    "    # This is a regression problem and we will \n",
    "    # use a single neuron as output: this network is not \n",
    "    # being trained as a classification problem.\n",
    "    num_classes = 1               \n",
    "    epochs = 100\n",
    "    img_rows, img_cols = np.shape(X_train)[1], np.shape(X_train)[2]\n",
    "    input_shape = (img_rows, img_cols, 1)\n",
    "\n",
    "    ######################################################\n",
    "    # Set up the network itself\n",
    "    model = Sequential()\n",
    "    model.add(Conv2D(32, kernel_size=(3, 3),\n",
    "                     activation='relu',\n",
    "                     input_shape=input_shape))\n",
    "    model.add(Conv2D(64, (3, 3), activation='relu'))  # Default is (3, 3)\n",
    "    model.add(MaxPooling2D(pool_size=(2, 2))) \n",
    "    model.add(Dropout(0.25))\n",
    "    model.add(Flatten())\n",
    "    model.add(Dense(256, activation='relu'))  # Default is 128\n",
    "    model.add(Dropout(0.5))\n",
    "    model.add(Dense(100, activation='relu'))\n",
    "    # Do not use softmax here, just specify one nueron\n",
    "    model.add(Dense(num_classes)) # CHANGED TO LINEAR, REMOVE TO GO BACK TO DEFAULT\n",
    "\n",
    "    ######################################################\n",
    "    # Choose an optimiser and configure it.\n",
    "    # Here we have initialised a number of optimisers, but \n",
    "    # we will use Root Mean Squared Propagation (RMSprop)\n",
    "    rms = optimizers.RMSprop(lr=0.001, rho=0.9, epsilon=1e-08, decay=0.0)\n",
    "    sgd = optimizers.SGD(lr=0.0001, decay=1e-5, momentum=0.9, nesterov=True)\n",
    "    ada = optimizers.Adadelta(lr=1.0, rho=0.95, epsilon=1e-08, decay=0.0)\n",
    "    ndm = optimizers.Nadam(lr=0.002, beta_1=0.9, beta_2=0.999, epsilon=1e-08, schedule_decay=0.004)\n",
    "\n",
    "    ######################################################\n",
    "    # Compile the network.\n",
    "    # Note: As this is a regression problem, only mean squared error \n",
    "    # or mean absolute error can be used for the loss.\n",
    "    model.compile(loss=losses.mean_squared_error, optimizer=ada)\n",
    "    \n",
    "    ## LET'S TRAIN\n",
    "    histories.append(model.fit(X_train, y_train,\n",
    "                    batch_size=batch_size,\n",
    "                    epochs=epochs,\n",
    "                    validation_data=(X_test, y_test),\n",
    "                    verbose=0))\n",
    "    \n",
    "    print(\"RUN %s\" % train_counter)\n",
    "    \n",
    "    scores.append(model.evaluate(X_test, y_test, verbose=0))\n",
    "    print(model.evaluate(X_test, y_test, verbose=1))\n",
    "    \n",
    "    rounded_correct = 0\n",
    "    rounded_incorrect = 0\n",
    "    floor_ceil_correct = 0\n",
    "    floor_ceil_incorrect = 0\n",
    "    leeway_correct = 0\n",
    "    leeway_incorrect = 0\n",
    "\n",
    "    for i in range(0, len(y_test)):\n",
    "        prediction = model.predict(X_test[i].reshape(1, X_test[i].shape[0], X_test[i].shape[1], 1))[0][0]\n",
    "\n",
    "        rounded_prediction = round(prediction)\n",
    "        floor_prediction = floor(prediction)\n",
    "        ceiling_prediction = ceil(prediction)\n",
    "\n",
    "        # Rounded to the nearest integer\n",
    "        if rounded_prediction == y_test[i]:\n",
    "            rounded_correct += 1\n",
    "        else:\n",
    "            rounded_incorrect += 1\n",
    "\n",
    "        # Floor or ceiling\n",
    "        if (floor_prediction == y_test[i]) or (ceiling_prediction == y_test[i]):\n",
    "            floor_ceil_correct += 1\n",
    "        else:\n",
    "            floor_ceil_incorrect += 1\n",
    "\n",
    "        # Leeway of 1\n",
    "        abs_difference = abs(rounded_prediction-y_test[i])\n",
    "\n",
    "        if abs_difference <= 1:\n",
    "            leeway_correct += 1\n",
    "        else:\n",
    "            leeway_incorrect += 1\n",
    "\n",
    "    accuracies_rounded.append((rounded_correct, rounded_incorrect))\n",
    "    accuracies_floor_ceil.append((floor_ceil_correct, floor_ceil_incorrect))\n",
    "    accuracies_leeway.append((leeway_correct, leeway_incorrect))\n",
    "\n",
    "    print(\"Correct (rounded): %s, Incorrect (rounded): %s\" % (rounded_correct, rounded_incorrect))        \n",
    "    print(\"Correct (floor/ceiling): %s, Incorrect (floor/ceiling): %s\" % (floor_ceil_correct, floor_ceil_incorrect))\n",
    "    print(\"Correct (leeway): %s, Incorrect (leeway): %s\" % (leeway_correct, leeway_incorrect))\n",
    "    \n",
    "    print(\"END %s\\n\" % train_counter)\n",
    "    \n",
    "    train_counter += 1"
   ]
  },
  {
   "cell_type": "code",
   "execution_count": 18,
   "metadata": {},
   "outputs": [],
   "source": [
    "a_round = np.asarray(accuracies_rounded)"
   ]
  },
  {
   "cell_type": "code",
   "execution_count": 26,
   "metadata": {},
   "outputs": [],
   "source": [
    "a_floor = np.asarray(accuracies_floor_ceil)"
   ]
  },
  {
   "cell_type": "code",
   "execution_count": 30,
   "metadata": {},
   "outputs": [],
   "source": [
    "a_leeway = np.asarray(accuracies_leeway)"
   ]
  },
  {
   "cell_type": "code",
   "execution_count": 33,
   "metadata": {},
   "outputs": [
    {
     "data": {
      "text/plain": [
       "9490.7000000000007"
      ]
     },
     "execution_count": 33,
     "metadata": {},
     "output_type": "execute_result"
    }
   ],
   "source": [
    "a_leeway[:,0].mean()"
   ]
  },
  {
   "cell_type": "code",
   "execution_count": 34,
   "metadata": {},
   "outputs": [
    {
     "data": {
      "text/plain": [
       "array(['00', '02', '03', '04', '05', '06', '07', '08', '09', '10', '11',\n",
       "       '12', '13', '14', '15', '16', '17', '19', '20', '21', '22', '23',\n",
       "       '24', '25', '26', '27', '28', '29', '30', '31', '32', '33', '35',\n",
       "       '37', '39', '40', '41', '42', '46', '47', '48', '49', '50', '51',\n",
       "       '52', '53', '55', '56', '57', '58', '59', '60', '61', '62', '63',\n",
       "       '64', '65', '66', '67', '68', '69', '70', '71', '72', '73', '74',\n",
       "       '75', '76', '77', '78', '79', '80', '81', '82', '83', '84', '85',\n",
       "       '86', '87', '88', '89', '90', '92', '93', '94', '95', '96', '97',\n",
       "       '98', '99'],\n",
       "      dtype='|S2')"
      ]
     },
     "execution_count": 34,
     "metadata": {},
     "output_type": "execute_result"
    }
   ],
   "source": [
    "train_set_pairs"
   ]
  },
  {
   "cell_type": "code",
   "execution_count": 26,
   "metadata": {},
   "outputs": [
    {
     "name": "stdout",
     "output_type": "stream",
     "text": [
      "Train loss: 0.0632535266088 Test loss: 1.10720102777\n",
      "Train loss: 0.0623196623021 Test loss: 0.69361052804\n",
      "Train loss: 0.0661115046157 Test loss: 0.773401923752\n",
      "Train loss: 0.0607607447558 Test loss: 0.784598394775\n",
      "Train loss: 0.0694891444554 Test loss: 0.956139478493\n",
      "Train loss: 0.0553421644602 Test loss: 0.773241580486\n",
      "Train loss: 0.0803066827628 Test loss: 1.21507503805\n",
      "Train loss: 0.0674270050183 Test loss: 0.727858560181\n",
      "Train loss: 0.0602696421915 Test loss: 0.946476239204\n",
      "Train loss: 0.0709666392962 Test loss: 0.555621409512\n"
     ]
    }
   ],
   "source": [
    "for history in histories:\n",
    "    print(\"Train loss: %s Test loss: %s\" % (history.history[\"loss\"][-1], history.history[\"val_loss\"][-1]))"
   ]
  },
  {
   "cell_type": "code",
   "execution_count": 30,
   "metadata": {},
   "outputs": [],
   "source": [
    "h_counter = 1\n",
    "for history in histories:\n",
    "    score = history.history['val_loss'][-1]\n",
    "    plt.xlim(0,len(history.history['loss'])-1)\n",
    "    plt.plot(history.history['loss'], linestyle='--', linewidth=3)\n",
    "    plt.plot(history.history['val_loss'], linewidth=3)\n",
    "    plt.title('Loss on Test/Training Set')\n",
    "    plt.ylabel('Loss (MSE)')\n",
    "    plt.xlabel('Epoch')\n",
    "    plt.legend(['Training Set', 'Test Set (Loss @ Final Epoch: '+ str(\"%.2f\"%score) +')'], loc='upper right')\n",
    "    plt.savefig(\"/tmp/loss-100-epochs-%s-fold.pdf\" % h_counter)\n",
    "    plt.close()\n",
    "    h_counter += 1"
   ]
  },
  {
   "cell_type": "markdown",
   "metadata": {},
   "source": [
    "## Regression Visualisation"
   ]
  },
  {
   "cell_type": "code",
   "execution_count": 36,
   "metadata": {
    "collapsed": true
   },
   "outputs": [],
   "source": [
    "from keras.preprocessing.image import img_to_array\n",
    "from vis.utils import utils\n",
    "from vis.visualization import visualize_saliency, overlay"
   ]
  },
  {
   "cell_type": "code",
   "execution_count": null,
   "metadata": {
    "collapsed": true
   },
   "outputs": [],
   "source": [
    "grads = visualize_saliency(model, layer_idx, filter_indices=0, seed_input=X_test[idx])\n",
    "# Plot with 'jet' colormap to visualize as a heatmap.\n",
    "plt.imshow(grads, cmap='jet')"
   ]
  },
  {
   "cell_type": "code",
   "execution_count": 62,
   "metadata": {},
   "outputs": [],
   "source": [
    "test = np.zeros((28,56,3))"
   ]
  },
  {
   "cell_type": "code",
   "execution_count": 66,
   "metadata": {},
   "outputs": [],
   "source": [
    "test[:,:,0] = X_test[idx].reshape((28,56))\n",
    "test[:,:,1] = X_test[idx].reshape((28,56))\n",
    "test[:,:,2] = X_test[idx].reshape((28,56))"
   ]
  },
  {
   "cell_type": "code",
   "execution_count": 67,
   "metadata": {},
   "outputs": [
    {
     "data": {
      "text/plain": [
       "<matplotlib.image.AxesImage at 0x7fdce6ba59d0>"
      ]
     },
     "execution_count": 67,
     "metadata": {},
     "output_type": "execute_result"
    },
    {
     "data": {
      "image/png": "[encoded data removed]",
      "text/plain": [
       "<matplotlib.figure.Figure at 0x7fdce6d81ed0>"
      ]
     },
     "metadata": {},
     "output_type": "display_data"
    }
   ],
   "source": [
    "plt.imshow(test)"
   ]
  },
  {
   "cell_type": "code",
   "execution_count": 73,
   "metadata": {},
   "outputs": [
    {
     "data": {
      "text/plain": [
       "(28, 56)"
      ]
     },
     "execution_count": 73,
     "metadata": {},
     "output_type": "execute_result"
    }
   ],
   "source": [
    "test[:,:,0].shape"
   ]
  },
  {
   "cell_type": "code",
   "execution_count": 84,
   "metadata": {},
   "outputs": [
    {
     "data": {
      "image/png": "[encoded data removed]",
      "text/plain": [
       "<matplotlib.figure.Figure at 0x7fdce40f99d0>"
      ]
     },
     "metadata": {},
     "output_type": "display_data"
    },
    {
     "data": {
      "image/png": "[encoded data removed]",
      "text/plain": [
       "<matplotlib.figure.Figure at 0x7fdcc0ccae10>"
      ]
     },
     "metadata": {},
     "output_type": "display_data"
    },
    {
     "data": {
      "image/png": "[encoded data removed]",
      "text/plain": [
       "<matplotlib.figure.Figure at 0x7fdcc0c812d0>"
      ]
     },
     "metadata": {},
     "output_type": "display_data"
    },
    {
     "data": {
      "image/png": "[encoded data removed]",
      "text/plain": [
       "<matplotlib.figure.Figure at 0x7fdcc0afb3d0>"
      ]
     },
     "metadata": {},
     "output_type": "display_data"
    }
   ],
   "source": [
    "idx = 999\n",
    "\n",
    "three_dim = np.zeros((28,56,3))\n",
    "\n",
    "three_dim[:,:,0] = X_test[idx].reshape((28,56))\n",
    "three_dim[:,:,1] = X_test[idx].reshape((28,56))\n",
    "three_dim[:,:,2] = X_test[idx].reshape((28,56))\n",
    "\n",
    "plt.imshow(three_dim)\n",
    "\n",
    "titles = ['right steering', 'left steering', 'maintain steering']\n",
    "modifiers = [None, 'negate', 'small_values']\n",
    "\n",
    "for i, modifier in enumerate(modifiers):\n",
    "    heatmap = visualize_saliency(model, layer_idx=-1, filter_indices=0, \n",
    "                                 seed_input=three_dim[:,:,0].reshape((28,56,1)), grad_modifier=modifier)\n",
    "    plt.figure()\n",
    "    plt.title(titles[i])\n",
    "    plt.imshow(overlay(three_dim, heatmap, alpha=0.7))"
   ]
  },
  {
   "cell_type": "code",
   "execution_count": 85,
   "metadata": {},
   "outputs": [
    {
     "data": {
      "image/png": "[encoded data removed]",
      "text/plain": [
       "<matplotlib.figure.Figure at 0x7fdce410d4d0>"
      ]
     },
     "metadata": {},
     "output_type": "display_data"
    },
    {
     "data": {
      "image/png": "[encoded data removed]",
      "text/plain": [
       "<matplotlib.figure.Figure at 0x7fdcc071ab10>"
      ]
     },
     "metadata": {},
     "output_type": "display_data"
    },
    {
     "data": {
      "image/png": "[encoded data removed]",
      "text/plain": [
       "<matplotlib.figure.Figure at 0x7fdcc05d0ad0>"
      ]
     },
     "metadata": {},
     "output_type": "display_data"
    }
   ],
   "source": [
    "from vis.visualization import visualize_cam\n",
    "\n",
    "for i, modifier in enumerate(modifiers):\n",
    "    heatmap = visualize_cam(model, layer_idx=-1, filter_indices=0, \n",
    "                            seed_input=three_dim[:,:,0].reshape((28,56,1)), grad_modifier=modifier)\n",
    "    plt.figure()\n",
    "    plt.title(titles[i])\n",
    "    # Overlay is used to alpha blend heatmap onto img.\n",
    "    plt.imshow(overlay(three_dim, heatmap, alpha=0.7))"
   ]
  },
  {
   "cell_type": "markdown",
   "metadata": {},
   "source": [
    "## END"
   ]
  },
  {
   "cell_type": "code",
   "execution_count": 67,
   "metadata": {},
   "outputs": [
    {
     "data": {
      "text/plain": [
       "10"
      ]
     },
     "execution_count": 67,
     "metadata": {},
     "output_type": "execute_result"
    }
   ],
   "source": [
    "len(test_set_pairs)"
   ]
  },
  {
   "cell_type": "code",
   "execution_count": 60,
   "metadata": {},
   "outputs": [],
   "source": [
    "unique_pairs = np.asarray(unique_pairs)"
   ]
  },
  {
   "cell_type": "code",
   "execution_count": 61,
   "metadata": {},
   "outputs": [
    {
     "data": {
      "text/plain": [
       "array(['01', '18', '34', '36', '38', '43', '44', '45', '54', '91'],\n",
       "      dtype='|S2')"
      ]
     },
     "execution_count": 61,
     "metadata": {},
     "output_type": "execute_result"
    }
   ],
   "source": [
    "unique_pairs[test_index]"
   ]
  },
  {
   "cell_type": "code",
   "execution_count": 10,
   "metadata": {},
   "outputs": [],
   "source": [
    "# Ensure there are 90 training set pairs and 10 test set pairs\n",
    "assert(len(test_set_pairs) == 10)\n",
    "assert(len(train_set_pairs) == 90)\n",
    "\n",
    "# Ensure no test set pairs appear in the training set pairs:\n",
    "for test_set in test_set_pairs:\n",
    "    assert(test_set not in train_set_pairs)"
   ]
  },
  {
   "cell_type": "markdown",
   "metadata": {},
   "source": [
    "EXPERIMENT: Train and test with the same permutations."
   ]
  },
  {
   "cell_type": "markdown",
   "metadata": {},
   "source": [
    "With our permutation pairs, we can begin generating the data.\n",
    "\n",
    "We use the `train_set_pairs` and `test_set_pairs` arrays as indices to generate data, and in the example below we create 1000 samples for each test and train set permutation pair. So, there are for example exactly 1000 samples for every premutation, resulting in 100,000 images in total split 90/10 across the train set and test set:"
   ]
  },
  {
   "cell_type": "code",
   "execution_count": 11,
   "metadata": {},
   "outputs": [],
   "source": [
    "X_train = []\n",
    "y_train = []\n",
    "\n",
    "# Number of samples per permutation (e.g. there are 90 permutations in the train set so 3000 * 90)\n",
    "samples_per_permutation = 1000  \n",
    "\n",
    "for train_set_pair in train_set_pairs:\n",
    "    for _ in range(samples_per_permutation):\n",
    "        rand_i = np.random.choice(np.where(y_train_keras == int(train_set_pair[0]))[0])\n",
    "        rand_j = np.random.choice(np.where(y_train_keras == int(train_set_pair[1]))[0])\n",
    "        \n",
    "        temp_image = np.zeros((28,56), dtype=\"uint8\")\n",
    "        temp_image[:,:28] = X_train_keras[rand_i]\n",
    "        temp_image[:,28:] = X_train_keras[rand_j]\n",
    "\n",
    "        X_train.append(temp_image)\n",
    "        y_train.append(y_train_keras[rand_i] + y_train_keras[rand_j])\n",
    "        \n",
    "X_test = []\n",
    "y_test = []\n",
    "\n",
    "for test_set_pair in test_set_pairs:\n",
    "    for _ in range(samples_per_permutation):\n",
    "        rand_i = np.random.choice(np.where(y_test_keras == int(test_set_pair[0]))[0])\n",
    "        rand_j = np.random.choice(np.where(y_test_keras == int(test_set_pair[1]))[0])\n",
    "        \n",
    "        temp_image = np.zeros((28,56), dtype=\"uint8\")\n",
    "        temp_image[:,:28] = X_test_keras[rand_i]\n",
    "        temp_image[:,28:] = X_test_keras[rand_j]\n",
    "            \n",
    "        X_test.append(temp_image)\n",
    "        y_test.append(y_test_keras[rand_i] + y_test_keras[rand_j])"
   ]
  },
  {
   "cell_type": "markdown",
   "metadata": {},
   "source": [
    "In the code above, we also generate our labels, which are the sum of the two images contained in each generated image. \n",
    "\n",
    "First, however, we will ensure we have generated the number of images is correct and that the label data matches the image data sizes:"
   ]
  },
  {
   "cell_type": "code",
   "execution_count": 12,
   "metadata": {},
   "outputs": [
    {
     "data": {
      "text/plain": [
       "90000"
      ]
     },
     "execution_count": 12,
     "metadata": {},
     "output_type": "execute_result"
    }
   ],
   "source": [
    "len(X_train)"
   ]
  },
  {
   "cell_type": "code",
   "execution_count": 13,
   "metadata": {},
   "outputs": [],
   "source": [
    "# The training set should be 90,000 images in size (90 permutations * 1000)\n",
    "# and the label data, y_train, must also be equal in length.\n",
    "assert(len(X_train) == samples_per_permutation * 90)\n",
    "assert(len(X_train) == len(y_train))\n",
    "\n",
    "# The test set should be 10,000 images in size (10 permutations * 1000)\n",
    "# and the label data, y_test, must also be equal in length\n",
    "assert(len(X_test) == samples_per_permutation * 10)\n",
    "assert(len(X_test) == len(y_test))"
   ]
  },
  {
   "cell_type": "markdown",
   "metadata": {},
   "source": [
    "Let us also preview a generated image and its label so that we get an understanding of how the dataset looks:"
   ]
  },
  {
   "cell_type": "code",
   "execution_count": 14,
   "metadata": {},
   "outputs": [
    {
     "name": "stdout",
     "output_type": "stream",
     "text": [
      "Image label: 14\n"
     ]
    },
    {
     "data": {
      "image/png": "[encoded data removed]",
      "text/plain": [
       "<PIL.Image.Image image mode=L size=56x28 at 0x7F4DB84E7D10>"
      ]
     },
     "execution_count": 14,
     "metadata": {},
     "output_type": "execute_result"
    }
   ],
   "source": [
    "ind = random.randint(0, len(X_test))\n",
    "print(\"Image label: \" + str(y_test[ind]))\n",
    "Image.fromarray(X_test[ind])"
   ]
  },
  {
   "cell_type": "markdown",
   "metadata": {},
   "source": [
    "As you can see, each image sample consists of two MNIST images side by side, with each digit taken at random from the entire set of possible 3s in the MNIST data set. The image's label is the addition of the the two numbers.\n",
    "\n",
    "We can examine the frequency of the labels for the training and test set data also:"
   ]
  },
  {
   "cell_type": "code",
   "execution_count": 15,
   "metadata": {},
   "outputs": [
    {
     "name": "stdout",
     "output_type": "stream",
     "text": [
      "Test set:\n",
      "[[   2 1000]\n",
      " [   3 1000]\n",
      " [   6 1000]\n",
      " [   7 1000]\n",
      " [   9 1000]\n",
      " [  10 1000]\n",
      " [  11 1000]\n",
      " [  14 1000]\n",
      " [  16 1000]\n",
      " [  17 1000]]\n",
      "Training set:\n",
      "[[   0 1000]\n",
      " [   1 2000]\n",
      " [   2 2000]\n",
      " [   3 3000]\n",
      " [   4 5000]\n",
      " [   5 6000]\n",
      " [   6 6000]\n",
      " [   7 7000]\n",
      " [   8 9000]\n",
      " [   9 9000]\n",
      " [  10 8000]\n",
      " [  11 7000]\n",
      " [  12 7000]\n",
      " [  13 6000]\n",
      " [  14 4000]\n",
      " [  15 4000]\n",
      " [  16 2000]\n",
      " [  17 1000]\n",
      " [  18 1000]]\n"
     ]
    }
   ],
   "source": [
    "print(\"Test set:\")\n",
    "print(itemfreq(y_test))\n",
    "print(\"Training set:\")\n",
    "print(itemfreq(y_train))"
   ]
  },
  {
   "cell_type": "markdown",
   "metadata": {},
   "source": [
    "There are more images that sum to 7,8,9,10,11 and so on for obvious reasons."
   ]
  },
  {
   "cell_type": "markdown",
   "metadata": {},
   "source": [
    "What is important to note is that the network will be trained on 90 of the possible 100 permutations of the digits 0-9, and hence when tested will never have seen those permutations before. As we saw above, the `test_set_pairs` array contains 10 permuations that will never be seen during training."
   ]
  },
  {
   "cell_type": "markdown",
   "metadata": {},
   "source": [
    "Finally, we will prepare the data for input into the network:"
   ]
  },
  {
   "cell_type": "code",
   "execution_count": 16,
   "metadata": {
    "collapsed": true
   },
   "outputs": [],
   "source": [
    "# Ensure we are using NumPy arrays\n",
    "X_train = np.asarray(X_train)\n",
    "y_train = np.asarray(y_train)\n",
    "X_test = np.asarray(X_test)\n",
    "y_test = np.asarray(y_test)\n",
    "\n",
    "# Reshape the data sets to a format suitable for Keras\n",
    "X_train = X_train.reshape(X_train.shape[0], X_train.shape[1], X_train.shape[2], 1)\n",
    "X_test = X_test.reshape(X_test.shape[0], X_test.shape[1], X_test.shape[2], 1)\n",
    "\n",
    "# Reformat the images to use floating point values rather than integers between 0-255\n",
    "X_train = X_train.astype('float32')\n",
    "X_test = X_test.astype('float32')\n",
    "X_train /= 255\n",
    "X_test /= 255"
   ]
  },
  {
   "cell_type": "markdown",
   "metadata": {},
   "source": [
    "Shuffling the data is always good practice:"
   ]
  },
  {
   "cell_type": "code",
   "execution_count": 17,
   "metadata": {
    "collapsed": true
   },
   "outputs": [],
   "source": [
    "X_train, y_train = utils.shuffle(X_train, y_train)\n",
    "X_test, y_test = utils.shuffle(X_test, y_test)"
   ]
  },
  {
   "cell_type": "markdown",
   "metadata": {},
   "source": [
    "## Training the Neural Network\n",
    "\n",
    "A very similar network to that used in the seminal LeNet5 experiment is used, except that we will be training this network as a regression problem rather than a classification problem. More on this later."
   ]
  },
  {
   "cell_type": "code",
   "execution_count": 18,
   "metadata": {},
   "outputs": [],
   "source": [
    "######################################################\n",
    "# Set up a few constants related to the size of the \n",
    "# network, number of output classes and so on.\n",
    "batch_size = 128\n",
    "# This is a regression problem and we will \n",
    "# use a single neuron as output: this network is not \n",
    "# being trained as a classification problem.\n",
    "num_classes = 1               \n",
    "epochs = 100\n",
    "img_rows, img_cols = np.shape(X_train)[1], np.shape(X_train)[2]\n",
    "input_shape = (img_rows, img_cols, 1)\n",
    "\n",
    "\n",
    "######################################################\n",
    "# Set up the network itself\n",
    "model = Sequential()\n",
    "model.add(Conv2D(32, kernel_size=(3, 3),\n",
    "                 activation='relu',\n",
    "                 input_shape=input_shape))\n",
    "model.add(Conv2D(64, (3, 3), activation='relu'))  # Default is (3, 3)\n",
    "model.add(MaxPooling2D(pool_size=(2, 2))) \n",
    "model.add(Dropout(0.25))\n",
    "model.add(Flatten())\n",
    "model.add(Dense(256, activation='relu'))  # Default is 128\n",
    "model.add(Dropout(0.5))\n",
    "model.add(Dense(100, activation='relu'))\n",
    "# Do not use softmax here, just specify one nueron\n",
    "model.add(Dense(num_classes, activation='linear')) # CHANGED TO LINEAR, REMOVE TO GO BACK TO DEFAULT\n",
    "\n",
    "\n",
    "######################################################\n",
    "# Choose an optimiser and configure it.\n",
    "# Here we have initialised a number of optimisers, but \n",
    "# we will use Root Mean Squared Propagation (RMSprop)\n",
    "rms = optimizers.RMSprop(lr=0.001, rho=0.9, epsilon=1e-08, decay=0.0)\n",
    "sgd = optimizers.SGD(lr=0.0001, decay=1e-5, momentum=0.9, nesterov=True)\n",
    "ada = optimizers.Adadelta(lr=1.0, rho=0.95, epsilon=1e-08, decay=0.0)\n",
    "ndm = optimizers.Nadam(lr=0.002, beta_1=0.9, beta_2=0.999, epsilon=1e-08, schedule_decay=0.004)\n",
    "\n",
    "\n",
    "######################################################\n",
    "# Compile the network.\n",
    "# Note: As this is a regression problem, only mean squared error \n",
    "# or mean absolute error can be used for the loss.\n",
    "model.compile(loss=losses.mean_squared_error, optimizer=ada)"
   ]
  },
  {
   "cell_type": "markdown",
   "metadata": {},
   "source": [
    "## Network Tests\n",
    "\n",
    "Some experiments. ** DO NOT RUN NOW**"
   ]
  },
  {
   "cell_type": "code",
   "execution_count": null,
   "metadata": {
    "collapsed": true
   },
   "outputs": [],
   "source": [
    "input_shape = (img_rows * img_cols)\n",
    "\n",
    "X_train = X_train.reshape(len(X_train), 28*56)\n",
    "X_test = X_test.reshape(len(X_test), 28*56)\n",
    "\n",
    "\n",
    "model = Sequential()\n",
    "model.add(Dense(2000, input_shape=(28*56, ), activation='relu'))\n",
    "model.add(Dense(500, activation='relu'))\n",
    "model.add(Dense(num_classes))\n",
    "\n",
    "rms = optimizers.RMSprop(lr=0.001, rho=0.9, epsilon=1e-08, decay=0.0)\n",
    "sgd = optimizers.SGD(lr=0.0001, decay=1e-5, momentum=0.9, nesterov=True)\n",
    "ada = optimizers.Adadelta(lr=1.0, rho=0.95, epsilon=1e-08, decay=0.0)\n",
    "ndm = optimizers.Nadam(lr=0.002, beta_1=0.9, beta_2=0.999, epsilon=1e-08, schedule_decay=0.004)\n",
    "\n",
    "model.compile(loss=losses.mean_absolute_error, optimizer=ndm)"
   ]
  },
  {
   "cell_type": "markdown",
   "metadata": {},
   "source": [
    "Now we are ready to train the network. This will take some time, especially if you are not using a GPU."
   ]
  },
  {
   "cell_type": "code",
   "execution_count": 19,
   "metadata": {},
   "outputs": [
    {
     "name": "stdout",
     "output_type": "stream",
     "text": [
      "Train on 90000 samples, validate on 10000 samples\n",
      "Epoch 1/100\n",
      "90000/90000 [==============================] - 26s 285us/step - loss: 7.5706 - val_loss: 4.3498\n",
      "Epoch 2/100\n",
      "90000/90000 [==============================] - 17s 184us/step - loss: 3.9056 - val_loss: 4.9889\n",
      "Epoch 3/100\n",
      "90000/90000 [==============================] - 17s 187us/step - loss: 3.0883 - val_loss: 5.9190\n",
      "Epoch 4/100\n",
      "90000/90000 [==============================] - 17s 190us/step - loss: 2.5739 - val_loss: 19.7419\n",
      "Epoch 5/100\n",
      "90000/90000 [==============================] - 16s 183us/step - loss: 2.2252 - val_loss: 19.7223\n",
      "Epoch 6/100\n",
      "90000/90000 [==============================] - 16s 182us/step - loss: 1.9645 - val_loss: 18.3465\n",
      "Epoch 7/100\n",
      "90000/90000 [==============================] - 17s 184us/step - loss: 1.7629 - val_loss: 26.4703\n",
      "Epoch 8/100\n",
      "90000/90000 [==============================] - 17s 184us/step - loss: 1.5743 - val_loss: 21.9779\n",
      "Epoch 9/100\n",
      "90000/90000 [==============================] - 17s 184us/step - loss: 1.4832 - val_loss: 23.7118\n",
      "Epoch 10/100\n",
      "90000/90000 [==============================] - 16s 182us/step - loss: 1.3556 - val_loss: 21.3159\n",
      "Epoch 11/100\n",
      "90000/90000 [==============================] - 16s 182us/step - loss: 1.2631 - val_loss: 17.0811\n",
      "Epoch 12/100\n",
      "90000/90000 [==============================] - 17s 185us/step - loss: 1.1759 - val_loss: 20.8674\n",
      "Epoch 13/100\n",
      "90000/90000 [==============================] - 16s 181us/step - loss: 1.0961 - val_loss: 23.4607\n",
      "Epoch 14/100\n",
      "90000/90000 [==============================] - 17s 188us/step - loss: 1.0367 - val_loss: 19.5031\n",
      "Epoch 15/100\n",
      "90000/90000 [==============================] - 17s 185us/step - loss: 0.9693 - val_loss: 21.4708\n",
      "Epoch 16/100\n",
      "90000/90000 [==============================] - 16s 183us/step - loss: 0.9177 - val_loss: 17.4635\n",
      "Epoch 17/100\n",
      "90000/90000 [==============================] - 17s 188us/step - loss: 0.8683 - val_loss: 19.9994\n",
      "Epoch 18/100\n",
      "90000/90000 [==============================] - 16s 180us/step - loss: 0.8133 - val_loss: 18.2780\n",
      "Epoch 19/100\n",
      "90000/90000 [==============================] - 16s 183us/step - loss: 0.7793 - val_loss: 19.2915\n",
      "Epoch 20/100\n",
      "90000/90000 [==============================] - 17s 186us/step - loss: 0.7354 - val_loss: 17.4118\n",
      "Epoch 21/100\n",
      "90000/90000 [==============================] - 17s 189us/step - loss: 0.6916 - val_loss: 12.8162\n",
      "Epoch 22/100\n",
      "90000/90000 [==============================] - 17s 187us/step - loss: 0.6470 - val_loss: 15.7436\n",
      "Epoch 23/100\n",
      "90000/90000 [==============================] - 18s 196us/step - loss: 0.6115 - val_loss: 15.6602\n",
      "Epoch 24/100\n",
      "90000/90000 [==============================] - 17s 194us/step - loss: 0.5832 - val_loss: 15.6385\n",
      "Epoch 25/100\n",
      "90000/90000 [==============================] - 17s 193us/step - loss: 0.5434 - val_loss: 15.2239\n",
      "Epoch 26/100\n",
      "90000/90000 [==============================] - 17s 194us/step - loss: 0.5227 - val_loss: 11.7407\n",
      "Epoch 27/100\n",
      "90000/90000 [==============================] - 17s 185us/step - loss: 0.4868 - val_loss: 13.8838\n",
      "Epoch 28/100\n",
      "90000/90000 [==============================] - 16s 181us/step - loss: 0.4666 - val_loss: 11.1895\n",
      "Epoch 29/100\n",
      "90000/90000 [==============================] - 16s 181us/step - loss: 0.4461 - val_loss: 13.1355\n",
      "Epoch 30/100\n",
      "90000/90000 [==============================] - 17s 189us/step - loss: 0.4216 - val_loss: 10.4954\n",
      "Epoch 31/100\n",
      "90000/90000 [==============================] - 16s 182us/step - loss: 0.4089 - val_loss: 8.7755\n",
      "Epoch 32/100\n",
      "90000/90000 [==============================] - 16s 181us/step - loss: 0.3916 - val_loss: 10.1917\n",
      "Epoch 33/100\n",
      "90000/90000 [==============================] - 16s 179us/step - loss: 0.3759 - val_loss: 9.1417\n",
      "Epoch 34/100\n",
      "90000/90000 [==============================] - 16s 182us/step - loss: 0.3548 - val_loss: 8.5110\n",
      "Epoch 35/100\n",
      "90000/90000 [==============================] - 16s 178us/step - loss: 0.3432 - val_loss: 6.8800\n",
      "Epoch 36/100\n",
      "90000/90000 [==============================] - 16s 181us/step - loss: 0.3323 - val_loss: 7.3578\n",
      "Epoch 37/100\n",
      "90000/90000 [==============================] - 16s 178us/step - loss: 0.3232 - val_loss: 6.9110\n",
      "Epoch 38/100\n",
      "90000/90000 [==============================] - 16s 179us/step - loss: 0.3087 - val_loss: 9.0157\n",
      "Epoch 39/100\n",
      "90000/90000 [==============================] - 16s 179us/step - loss: 0.3007 - val_loss: 7.5536\n",
      "Epoch 40/100\n",
      "90000/90000 [==============================] - 16s 180us/step - loss: 0.2917 - val_loss: 6.7846\n",
      "Epoch 41/100\n",
      "90000/90000 [==============================] - 16s 177us/step - loss: 0.2790 - val_loss: 6.7223\n",
      "Epoch 42/100\n",
      "90000/90000 [==============================] - 16s 180us/step - loss: 0.2723 - val_loss: 7.1793\n",
      "Epoch 43/100\n",
      "90000/90000 [==============================] - 16s 182us/step - loss: 0.2643 - val_loss: 5.8878\n",
      "Epoch 44/100\n",
      "90000/90000 [==============================] - 16s 181us/step - loss: 0.2544 - val_loss: 5.5915\n",
      "Epoch 45/100\n",
      "90000/90000 [==============================] - 16s 178us/step - loss: 0.2466 - val_loss: 5.7019\n",
      "Epoch 46/100\n",
      "90000/90000 [==============================] - 16s 180us/step - loss: 0.2363 - val_loss: 5.4703\n",
      "Epoch 47/100\n",
      "90000/90000 [==============================] - 16s 179us/step - loss: 0.2320 - val_loss: 5.9711\n",
      "Epoch 48/100\n",
      "90000/90000 [==============================] - 16s 179us/step - loss: 0.2267 - val_loss: 4.7858\n",
      "Epoch 49/100\n",
      "90000/90000 [==============================] - 16s 178us/step - loss: 0.2128 - val_loss: 5.5839\n",
      "Epoch 50/100\n",
      "90000/90000 [==============================] - 16s 181us/step - loss: 0.2044 - val_loss: 5.6383\n",
      "Epoch 51/100\n",
      "90000/90000 [==============================] - 16s 181us/step - loss: 0.2022 - val_loss: 5.1604\n",
      "Epoch 52/100\n",
      "90000/90000 [==============================] - 16s 181us/step - loss: 0.1950 - val_loss: 4.9330\n",
      "Epoch 53/100\n",
      "90000/90000 [==============================] - 16s 182us/step - loss: 0.1867 - val_loss: 4.2721\n",
      "Epoch 54/100\n",
      "90000/90000 [==============================] - 16s 179us/step - loss: 0.1850 - val_loss: 3.3735\n",
      "Epoch 55/100\n",
      "90000/90000 [==============================] - 16s 182us/step - loss: 0.1785 - val_loss: 4.9486\n",
      "Epoch 56/100\n",
      "90000/90000 [==============================] - 16s 181us/step - loss: 0.1742 - val_loss: 3.6442\n",
      "Epoch 57/100\n",
      "90000/90000 [==============================] - 16s 181us/step - loss: 0.1663 - val_loss: 3.5038\n",
      "Epoch 58/100\n",
      "90000/90000 [==============================] - 16s 177us/step - loss: 0.1637 - val_loss: 3.7158\n",
      "Epoch 59/100\n",
      "90000/90000 [==============================] - 16s 177us/step - loss: 0.1588 - val_loss: 4.3521\n",
      "Epoch 60/100\n",
      "90000/90000 [==============================] - 16s 178us/step - loss: 0.1580 - val_loss: 3.4611\n",
      "Epoch 61/100\n",
      "90000/90000 [==============================] - 16s 177us/step - loss: 0.1548 - val_loss: 3.1578\n",
      "Epoch 62/100\n",
      "90000/90000 [==============================] - 17s 186us/step - loss: 0.1475 - val_loss: 3.2657\n",
      "Epoch 63/100\n",
      "90000/90000 [==============================] - 16s 182us/step - loss: 0.1440 - val_loss: 3.0348\n",
      "Epoch 64/100\n",
      "90000/90000 [==============================] - 16s 177us/step - loss: 0.1406 - val_loss: 2.7187\n",
      "Epoch 65/100\n",
      "90000/90000 [==============================] - 16s 177us/step - loss: 0.1348 - val_loss: 2.8792\n",
      "Epoch 66/100\n",
      "90000/90000 [==============================] - 16s 177us/step - loss: 0.1351 - val_loss: 3.0390\n",
      "Epoch 67/100\n",
      "90000/90000 [==============================] - 16s 181us/step - loss: 0.1328 - val_loss: 2.1487\n",
      "Epoch 68/100\n",
      "90000/90000 [==============================] - 16s 178us/step - loss: 0.1266 - val_loss: 2.8975\n",
      "Epoch 69/100\n",
      "90000/90000 [==============================] - 16s 180us/step - loss: 0.1229 - val_loss: 2.5574\n",
      "Epoch 70/100\n",
      "90000/90000 [==============================] - 16s 176us/step - loss: 0.1241 - val_loss: 2.3821\n",
      "Epoch 71/100\n",
      "90000/90000 [==============================] - 16s 179us/step - loss: 0.1192 - val_loss: 2.2686\n",
      "Epoch 72/100\n",
      "90000/90000 [==============================] - 16s 183us/step - loss: 0.1171 - val_loss: 2.3094\n",
      "Epoch 73/100\n",
      "90000/90000 [==============================] - 16s 182us/step - loss: 0.1150 - val_loss: 2.1924\n",
      "Epoch 74/100\n",
      "90000/90000 [==============================] - 16s 182us/step - loss: 0.1135 - val_loss: 2.2451\n",
      "Epoch 75/100\n",
      "90000/90000 [==============================] - 16s 178us/step - loss: 0.1075 - val_loss: 2.2240\n",
      "Epoch 76/100\n",
      "90000/90000 [==============================] - 16s 177us/step - loss: 0.1100 - val_loss: 2.1567\n",
      "Epoch 77/100\n",
      "90000/90000 [==============================] - 16s 177us/step - loss: 0.1062 - val_loss: 1.8285\n",
      "Epoch 78/100\n",
      "90000/90000 [==============================] - 16s 179us/step - loss: 0.1037 - val_loss: 1.8592\n",
      "Epoch 79/100\n",
      "90000/90000 [==============================] - 16s 176us/step - loss: 0.1035 - val_loss: 1.9021\n",
      "Epoch 80/100\n",
      "90000/90000 [==============================] - 16s 177us/step - loss: 0.1011 - val_loss: 1.6511\n",
      "Epoch 81/100\n",
      "90000/90000 [==============================] - 16s 176us/step - loss: 0.0974 - val_loss: 1.6648\n",
      "Epoch 82/100\n",
      "90000/90000 [==============================] - 17s 184us/step - loss: 0.0996 - val_loss: 1.7116\n",
      "Epoch 83/100\n",
      "90000/90000 [==============================] - 17s 190us/step - loss: 0.0978 - val_loss: 1.5071\n",
      "Epoch 84/100\n",
      "90000/90000 [==============================] - 17s 190us/step - loss: 0.0960 - val_loss: 1.5494\n",
      "Epoch 85/100\n",
      "90000/90000 [==============================] - 17s 188us/step - loss: 0.0966 - val_loss: 1.8000\n",
      "Epoch 86/100\n",
      "90000/90000 [==============================] - 17s 187us/step - loss: 0.0938 - val_loss: 1.5958\n",
      "Epoch 87/100\n",
      "90000/90000 [==============================] - 17s 187us/step - loss: 0.0902 - val_loss: 1.5337\n",
      "Epoch 88/100\n",
      "90000/90000 [==============================] - 16s 180us/step - loss: 0.0904 - val_loss: 1.2669\n",
      "Epoch 89/100\n",
      "90000/90000 [==============================] - 17s 187us/step - loss: 0.0904 - val_loss: 1.8323\n",
      "Epoch 90/100\n",
      "90000/90000 [==============================] - 17s 188us/step - loss: 0.0891 - val_loss: 1.5230\n",
      "Epoch 91/100\n",
      "90000/90000 [==============================] - 17s 184us/step - loss: 0.0869 - val_loss: 1.6433\n",
      "Epoch 92/100\n",
      "90000/90000 [==============================] - 16s 179us/step - loss: 0.0827 - val_loss: 1.5039\n",
      "Epoch 93/100\n",
      "90000/90000 [==============================] - 16s 177us/step - loss: 0.0860 - val_loss: 1.5090\n",
      "Epoch 94/100\n",
      "90000/90000 [==============================] - 16s 179us/step - loss: 0.0850 - val_loss: 1.4535\n",
      "Epoch 95/100\n",
      "90000/90000 [==============================] - 16s 178us/step - loss: 0.0822 - val_loss: 1.3191\n",
      "Epoch 96/100\n",
      "90000/90000 [==============================] - 16s 179us/step - loss: 0.0805 - val_loss: 1.6091\n",
      "Epoch 97/100\n",
      "90000/90000 [==============================] - 17s 189us/step - loss: 0.0813 - val_loss: 1.5653\n",
      "Epoch 98/100\n",
      "90000/90000 [==============================] - 17s 186us/step - loss: 0.0795 - val_loss: 1.3660\n",
      "Epoch 99/100\n",
      "90000/90000 [==============================] - 17s 185us/step - loss: 0.0790 - val_loss: 1.3562\n",
      "Epoch 100/100\n",
      "90000/90000 [==============================] - 16s 178us/step - loss: 0.0782 - val_loss: 1.2317\n"
     ]
    }
   ],
   "source": [
    "history = model.fit(X_train, y_train,\n",
    "                    batch_size=batch_size,\n",
    "                    epochs=epochs,\n",
    "                    validation_data=(X_test, y_test),\n",
    "                    verbose=1)"
   ]
  },
  {
   "cell_type": "markdown",
   "metadata": {},
   "source": [
    "We can print the network's score:"
   ]
  },
  {
   "cell_type": "code",
   "execution_count": 13,
   "metadata": {},
   "outputs": [
    {
     "name": "stdout",
     "output_type": "stream",
     "text": [
      "10000/10000 [==============================] - 2s 182us/step\n",
      "\n",
      "0.55562\n"
     ]
    }
   ],
   "source": [
    "score = model.evaluate(X_test, y_test, verbose=1)\n",
    "print(\"\\n%.5f\" % score)"
   ]
  },
  {
   "cell_type": "markdown",
   "metadata": {},
   "source": [
    "**Optional: You may want to save the model and weights for later use.**"
   ]
  },
  {
   "cell_type": "code",
   "execution_count": 8,
   "metadata": {
    "collapsed": true
   },
   "outputs": [],
   "source": [
    "model.save(\"/home/marcus/mnistcalc_model_best.h5\")\n",
    "model.save_weights(\"/home/marcus/mnistcalc_weights_best.h5\")"
   ]
  },
  {
   "cell_type": "markdown",
   "metadata": {},
   "source": [
    "And plot the loss on the training set and test to get an overview:"
   ]
  },
  {
   "cell_type": "code",
   "execution_count": 11,
   "metadata": {},
   "outputs": [
    {
     "data": {
      "text/plain": [
       "<keras.callbacks.History at 0x7ff40c254fd0>"
      ]
     },
     "execution_count": 11,
     "metadata": {},
     "output_type": "execute_result"
    }
   ],
   "source": [
    "histories[9]"
   ]
  },
  {
   "cell_type": "code",
   "execution_count": 15,
   "metadata": {},
   "outputs": [
    {
     "data": {
      "image/png": "[encoded data removed]",
      "text/plain": [
       "<matplotlib.figure.Figure at 0x7ff42dab8e10>"
      ]
     },
     "metadata": {},
     "output_type": "display_data"
    }
   ],
   "source": [
    "history = histories[9] % for 10 fold.\n",
    "plt.xlim(0,len(history.history['loss'])-1)\n",
    "plt.plot(history.history['loss'], linestyle='--', linewidth=3)\n",
    "plt.plot(history.history['val_loss'], linewidth=3)\n",
    "plt.title('Loss on Test/Training Set')\n",
    "plt.ylabel('Loss (MSE)')\n",
    "plt.xlabel('Epoch')\n",
    "plt.legend(['Training Set', 'Test Set (Loss @ Final Epoch: '+ str(\"%.2f\"%score) +')'], loc='upper right')\n",
    "plt.savefig(\"/tmp/loss-100-epochs-10fold-title.pdf\")\n",
    "plt.show()"
   ]
  },
  {
   "cell_type": "markdown",
   "metadata": {},
   "source": [
    "Now we can select random images from the test set, and see how well the network predicts their summation:"
   ]
  },
  {
   "cell_type": "code",
   "execution_count": 19,
   "metadata": {},
   "outputs": [
    {
     "data": {
      "image/png": "[encoded data removed]"
     },
     "metadata": {},
     "output_type": "display_data"
    },
    {
     "name": "stdout",
     "output_type": "stream",
     "text": [
      "Prediction for index 3671: 7.46396 (Actual: 8)\n"
     ]
    },
    {
     "data": {
      "image/png": "[encoded data removed]"
     },
     "metadata": {},
     "output_type": "display_data"
    },
    {
     "name": "stdout",
     "output_type": "stream",
     "text": [
      "Prediction for index 8536: 7.09811 (Actual: 7)\n"
     ]
    },
    {
     "data": {
      "image/png": "[encoded data removed]"
     },
     "metadata": {},
     "output_type": "display_data"
    },
    {
     "name": "stdout",
     "output_type": "stream",
     "text": [
      "Prediction for index 8823: 1.5383 (Actual: 1)\n"
     ]
    },
    {
     "data": {
      "image/png": "[encoded data removed]"
     },
     "metadata": {},
     "output_type": "display_data"
    },
    {
     "name": "stdout",
     "output_type": "stream",
     "text": [
      "Prediction for index 6644: 6.38974 (Actual: 7)\n"
     ]
    },
    {
     "data": {
      "image/png": "[encoded data removed]"
     },
     "metadata": {},
     "output_type": "display_data"
    },
    {
     "name": "stdout",
     "output_type": "stream",
     "text": [
      "Prediction for index 2864: 9.88649 (Actual: 9)\n"
     ]
    },
    {
     "data": {
      "image/png": "[encoded data removed]"
     },
     "metadata": {},
     "output_type": "display_data"
    },
    {
     "name": "stdout",
     "output_type": "stream",
     "text": [
      "Prediction for index 862: 7.86016 (Actual: 8)\n"
     ]
    },
    {
     "data": {
      "image/png": "[encoded data removed]"
     },
     "metadata": {},
     "output_type": "display_data"
    },
    {
     "name": "stdout",
     "output_type": "stream",
     "text": [
      "Prediction for index 1898: 11.4764 (Actual: 11)\n"
     ]
    },
    {
     "data": {
      "image/png": "[encoded data removed]"
     },
     "metadata": {},
     "output_type": "display_data"
    },
    {
     "name": "stdout",
     "output_type": "stream",
     "text": [
      "Prediction for index 9103: 11.3635 (Actual: 11)\n"
     ]
    },
    {
     "data": {
      "image/png": "[encoded data removed]"
     },
     "metadata": {},
     "output_type": "display_data"
    },
    {
     "name": "stdout",
     "output_type": "stream",
     "text": [
      "Prediction for index 7790: 6.76048 (Actual: 7)\n"
     ]
    },
    {
     "data": {
      "image/png": "[encoded data removed]"
     },
     "metadata": {},
     "output_type": "display_data"
    },
    {
     "name": "stdout",
     "output_type": "stream",
     "text": [
      "Prediction for index 84: 7.11598 (Actual: 7)\n"
     ]
    }
   ],
   "source": [
    "for _ in range(10):\n",
    "    ind = random.randint(0, len(X_test)-1)\n",
    "    image_predicted = X_test[ind].copy()\n",
    "    image_predicted = image_predicted.reshape((28, 56))\n",
    "    image_predicted = image_predicted * 255\n",
    "    image_predicted = image_predicted.astype('uint8')\n",
    "    dp.display_png(Image.fromarray(image_predicted))\n",
    "    p = model.predict(X_test[ind].reshape(1, 28, 56, 1))[0][0]\n",
    "    print(\"Prediction for index %s: %s (Actual: %s)\" % (ind, p, y_test[ind]))"
   ]
  },
  {
   "cell_type": "markdown",
   "metadata": {},
   "source": [
    "## Evaluation of Accuracy\n",
    "\n",
    "Evaluating the accuracy of the model can also be done by rounding the predicted values to the nearest integer and comparing these to the actual labels:"
   ]
  },
  {
   "cell_type": "code",
   "execution_count": 32,
   "metadata": {},
   "outputs": [
    {
     "name": "stdout",
     "output_type": "stream",
     "text": [
      "Correct: 8517, incorrect: 1483\n"
     ]
    }
   ],
   "source": [
    "correct = 0\n",
    "incorrect = 0\n",
    "\n",
    "for i in range(0, len(y_test)):\n",
    "    prediction = model.predict(X_test[i].reshape(1, X_test[i].shape[0], X_test[i].shape[1], 1))[0][0]\n",
    "    rounded_prediction = round(prediction)\n",
    "    floor_prediction = floor(prediction)\n",
    "    ceiling_prediction = ceil(prediction)\n",
    "    \n",
    "    abs_difference = abs(rounded_prediction-y_test[i])\n",
    "    \n",
    "    if abs_difference <= 1:\n",
    "        correct = correct + 1\n",
    "    else:\n",
    "        incorrect = incorrect + 1\n",
    "        \n",
    "print(\"Correct: %s, incorrect: %s\" % (correct, incorrect))"
   ]
  },
  {
   "cell_type": "code",
   "execution_count": 28,
   "metadata": {},
   "outputs": [
    {
     "data": {
      "text/plain": [
       "8517"
      ]
     },
     "execution_count": 28,
     "metadata": {},
     "output_type": "execute_result"
    }
   ],
   "source": [
    "correct"
   ]
  },
  {
   "cell_type": "code",
   "execution_count": 20,
   "metadata": {},
   "outputs": [
    {
     "name": "stdout",
     "output_type": "stream",
     "text": [
      "Correct: 6235, incorrect: 3765\n"
     ]
    }
   ],
   "source": [
    "correct = 0\n",
    "incorrect = 0\n",
    "\n",
    "for i in range(0, len(y_test)):\n",
    "    prediction = model.predict(X_test[i].reshape(1, X_test[i].shape[0], X_test[i].shape[1], 1))[0][0]\n",
    "    rounded_prediction = round(prediction)\n",
    "    \n",
    "    if rounded_prediction == y_test[i]:\n",
    "        correct += 1\n",
    "    else:\n",
    "        incorrect += 1\n",
    "\n",
    "print(\"Correct: %s, incorrect: %s\" % (correct, incorrect))"
   ]
  },
  {
   "cell_type": "markdown",
   "metadata": {},
   "source": [
    "## Examine the Layers for their Properties"
   ]
  },
  {
   "cell_type": "code",
   "execution_count": null,
   "metadata": {},
   "outputs": [],
   "source": [
    "layer_dict = dict([(layer.name, layer) for layer in model.layers])"
   ]
  },
  {
   "cell_type": "code",
   "execution_count": null,
   "metadata": {},
   "outputs": [],
   "source": [
    "layer_dict"
   ]
  },
  {
   "cell_type": "markdown",
   "metadata": {},
   "source": [
    "Now we examine a single filter (index 0) of the layer conv2d_1:"
   ]
  },
  {
   "cell_type": "markdown",
   "metadata": {},
   "source": [
    "## Evaluating the Network"
   ]
  },
  {
   "cell_type": "markdown",
   "metadata": {},
   "source": [
    "To really perform a good sanity test, it is best to test the network on the **training set** so that we know we are learning a model that can predict:"
   ]
  },
  {
   "cell_type": "code",
   "execution_count": null,
   "metadata": {},
   "outputs": [],
   "source": [
    "_training_set_score = model.evaluate(X_train, y_train)\n",
    "print(\"\\n%.5f\" % _training_set_score)"
   ]
  },
  {
   "cell_type": "markdown",
   "metadata": {},
   "source": [
    "See how well the network performs per correct sum:"
   ]
  },
  {
   "cell_type": "code",
   "execution_count": null,
   "metadata": {},
   "outputs": [],
   "source": [
    "correct = 0\n",
    "\n",
    "for _ in range(len(X_test)):\n",
    "    p = model.predict(X_test[_].reshape(1, X_test[_].shape[0], X_test[_].shape[1], 1))[0][0]\n",
    "    #if floor(p) == y_test[_] or ceil(p) == y_test[_]:\n",
    "    #    correct += 1\n",
    "    if round(p) == y_test[_]:\n",
    "        correct += 1\n",
    "\n",
    "print(str(correct) + \" of \" + str(len(X_test)))"
   ]
  },
  {
   "cell_type": "code",
   "execution_count": null,
   "metadata": {},
   "outputs": [],
   "source": [
    "correct / float(len(X_test)) * 100"
   ]
  },
  {
   "cell_type": "markdown",
   "metadata": {},
   "source": [
    "See how well the network performs for each label:"
   ]
  },
  {
   "cell_type": "code",
   "execution_count": null,
   "metadata": {},
   "outputs": [],
   "source": [
    "freq = itemfreq(y_test)\n",
    "test_set_labels = []\n",
    "for f in freq:\n",
    "    test_set_labels.append(f[0])\n",
    "\n",
    "correct_by_label = dict()\n",
    "\n",
    "for l in test_set_labels:\n",
    "    correct_by_label[l] = 0\n",
    "\n",
    "for test_set_label in test_set_labels:\n",
    "    for _ in range(len(X_test)):\n",
    "        if y_test[_] == test_set_label:\n",
    "            p = model.predict(X_test[_].reshape(1, X_test[_].shape[0], X_test[_].shape[1], 1))[0][0]\n",
    "            if round(p) == y_test[_]:\n",
    "                correct_by_label[test_set_label] += 1\n",
    "\n",
    "correct_by_label"
   ]
  },
  {
   "cell_type": "markdown",
   "metadata": {},
   "source": [
    "## Visualising the Network"
   ]
  },
  {
   "cell_type": "code",
   "execution_count": 33,
   "metadata": {},
   "outputs": [
    {
     "data": {
      "text/plain": [
       "<matplotlib.image.AxesImage at 0x7f4da485c410>"
      ]
     },
     "execution_count": 33,
     "metadata": {},
     "output_type": "execute_result"
    },
    {
     "data": {
      "image/png": "[encoded data removed]",
      "text/plain": [
       "<matplotlib.figure.Figure at 0x7f4db7e6e590>"
      ]
     },
     "metadata": {},
     "output_type": "display_data"
    }
   ],
   "source": [
    "# Plot using matplotlib, as we can use heat maps later for the saliency maps.\n",
    "\n",
    "idx = 9999\n",
    "\n",
    "plt.imshow(X_test[idx][..., 0])"
   ]
  },
  {
   "cell_type": "code",
   "execution_count": 34,
   "metadata": {},
   "outputs": [
    {
     "data": {
      "text/plain": [
       "9.5657711"
      ]
     },
     "execution_count": 34,
     "metadata": {},
     "output_type": "execute_result"
    }
   ],
   "source": [
    "_ = 9999\n",
    "model.predict(X_test[_].reshape(1, X_test[_].shape[0], X_test[_].shape[1], 1))[0][0]"
   ]
  },
  {
   "cell_type": "code",
   "execution_count": 35,
   "metadata": {
    "collapsed": true
   },
   "outputs": [],
   "source": [
    "from vis.visualization import visualize_saliency\n",
    "from vis.utils import utils\n",
    "from keras import activations"
   ]
  },
  {
   "cell_type": "code",
   "execution_count": 36,
   "metadata": {},
   "outputs": [
    {
     "name": "stdout",
     "output_type": "stream",
     "text": [
      "_________________________________________________________________\n",
      "Layer (type)                 Output Shape              Param #   \n",
      "=================================================================\n",
      "conv2d_1 (Conv2D)            (None, 26, 54, 32)        320       \n",
      "_________________________________________________________________\n",
      "conv2d_2 (Conv2D)            (None, 24, 52, 64)        18496     \n",
      "_________________________________________________________________\n",
      "max_pooling2d_1 (MaxPooling2 (None, 12, 26, 64)        0         \n",
      "_________________________________________________________________\n",
      "dropout_1 (Dropout)          (None, 12, 26, 64)        0         \n",
      "_________________________________________________________________\n",
      "flatten_1 (Flatten)          (None, 19968)             0         \n",
      "_________________________________________________________________\n",
      "dense_1 (Dense)              (None, 256)               5112064   \n",
      "_________________________________________________________________\n",
      "dropout_2 (Dropout)          (None, 256)               0         \n",
      "_________________________________________________________________\n",
      "dense_2 (Dense)              (None, 100)               25700     \n",
      "_________________________________________________________________\n",
      "dense_3 (Dense)              (None, 1)                 101       \n",
      "=================================================================\n",
      "Total params: 5,156,681\n",
      "Trainable params: 5,156,681\n",
      "Non-trainable params: 0\n",
      "_________________________________________________________________\n"
     ]
    }
   ],
   "source": [
    "model.summary()"
   ]
  },
  {
   "cell_type": "code",
   "execution_count": 37,
   "metadata": {},
   "outputs": [],
   "source": [
    "# Get the last layer:\n",
    "layer_idx = utils.find_layer_idx(model, 'dense_3')"
   ]
  },
  {
   "cell_type": "code",
   "execution_count": 38,
   "metadata": {
    "collapsed": true
   },
   "outputs": [],
   "source": [
    "# Swap out the last layer with a linear activation function rather than a sigmoid (it is not a sigmoid anyway)\n",
    "model.layers[layer_idx].activation = activations.linear"
   ]
  },
  {
   "cell_type": "code",
   "execution_count": 39,
   "metadata": {
    "collapsed": true
   },
   "outputs": [],
   "source": [
    "# Apply this\n",
    "model = utils.apply_modifications(model)"
   ]
  },
  {
   "cell_type": "code",
   "execution_count": 40,
   "metadata": {},
   "outputs": [
    {
     "data": {
      "text/plain": [
       "<matplotlib.image.AxesImage at 0x7f4d3c5bfd10>"
      ]
     },
     "execution_count": 40,
     "metadata": {},
     "output_type": "execute_result"
    },
    {
     "data": {
      "image/png": "[encoded data removed]",
      "text/plain": [
       "<matplotlib.figure.Figure at 0x7f4da412fb50>"
      ]
     },
     "metadata": {},
     "output_type": "display_data"
    }
   ],
   "source": [
    "grads = visualize_saliency(model, layer_idx, filter_indices=0, seed_input=X_test[idx])\n",
    "# Plot with 'jet' colormap to visualize as a heatmap.\n",
    "plt.imshow(grads, cmap='jet')"
   ]
  },
  {
   "cell_type": "code",
   "execution_count": 41,
   "metadata": {},
   "outputs": [
    {
     "data": {
      "text/plain": [
       "<matplotlib.image.AxesImage at 0x7f4d0fc505d0>"
      ]
     },
     "execution_count": 41,
     "metadata": {},
     "output_type": "execute_result"
    },
    {
     "data": {
      "image/png": "[encoded data removed]",
      "text/plain": [
       "<matplotlib.figure.Figure at 0x7f4d3c5a27d0>"
      ]
     },
     "metadata": {},
     "output_type": "display_data"
    }
   ],
   "source": [
    "grads = visualize_saliency(model, layer_idx, filter_indices=0, seed_input=X_test[idx], backprop_modifier='guided')\n",
    "plt.imshow(grads, cmap='jet')"
   ]
  },
  {
   "cell_type": "code",
   "execution_count": 42,
   "metadata": {},
   "outputs": [
    {
     "data": {
      "image/png": "[encoded data removed]",
      "text/plain": [
       "<matplotlib.figure.Figure at 0x7f4d0fca2490>"
      ]
     },
     "metadata": {},
     "output_type": "display_data"
    },
    {
     "data": {
      "image/png": "[encoded data removed]",
      "text/plain": [
       "<matplotlib.figure.Figure at 0x7f4d0f53be50>"
      ]
     },
     "metadata": {},
     "output_type": "display_data"
    }
   ],
   "source": [
    "for modifier in ['guided', 'relu']:\n",
    "    grads = visualize_saliency(model, layer_idx, filter_indices=0,\n",
    "                               seed_input=X_test[idx], backprop_modifier=modifier)\n",
    "    plt.figure()\n",
    "    plt.title(modifier)\n",
    "    plt.imshow(grads, cmap='jet')"
   ]
  },
  {
   "cell_type": "code",
   "execution_count": 43,
   "metadata": {},
   "outputs": [
    {
     "data": {
      "text/plain": [
       "<matplotlib.image.AxesImage at 0x7f4d0ef8e550>"
      ]
     },
     "execution_count": 43,
     "metadata": {},
     "output_type": "execute_result"
    },
    {
     "data": {
      "image/png": "[encoded data removed]",
      "text/plain": [
       "<matplotlib.figure.Figure at 0x7f4d0fcac810>"
      ]
     },
     "metadata": {},
     "output_type": "display_data"
    }
   ],
   "source": [
    "grads = visualize_saliency(model, layer_idx, filter_indices=0, seed_input=X_test[idx], \n",
    "                           backprop_modifier='guided', grad_modifier='negate')\n",
    "plt.imshow(grads, cmap='jet')"
   ]
  },
  {
   "cell_type": "markdown",
   "metadata": {},
   "source": [
    "# Test"
   ]
  },
  {
   "cell_type": "code",
   "execution_count": null,
   "metadata": {},
   "outputs": [],
   "source": [
    "model.summary()"
   ]
  },
  {
   "cell_type": "code",
   "execution_count": null,
   "metadata": {},
   "outputs": [],
   "source": [
    "from vis.visualization import visualize_activation"
   ]
  },
  {
   "cell_type": "code",
   "execution_count": null,
   "metadata": {},
   "outputs": [],
   "source": [
    "img = visualize_activation(model, layer_idx, filter_indices=0)\n",
    "plt.imshow(img.reshape((28,56)))"
   ]
  },
  {
   "cell_type": "code",
   "execution_count": null,
   "metadata": {},
   "outputs": [],
   "source": [
    "img = visualize_activation(model, layer_idx, filter_indices=0, max_iter=500, verbose=True)"
   ]
  },
  {
   "cell_type": "code",
   "execution_count": null,
   "metadata": {},
   "outputs": [],
   "source": [
    "plt.imshow(img.reshape((28,56)))"
   ]
  },
  {
   "cell_type": "code",
   "execution_count": null,
   "metadata": {
    "collapsed": true
   },
   "outputs": [],
   "source": [
    "from vis.visualization import get_num_filters"
   ]
  },
  {
   "cell_type": "code",
   "execution_count": null,
   "metadata": {},
   "outputs": [],
   "source": [
    "layer_name = 'conv2d_2'\n",
    "layer_idx = utils.find_layer_idx(model, layer_name)\n",
    "\n",
    "# Visualize all filters in this layer.\n",
    "filters = np.arange(get_num_filters(model.layers[layer_idx]))\n",
    "\n",
    "# Generate input image for each filter.\n",
    "vis_images = []\n",
    "for idx in filters:\n",
    "    img = visualize_activation(model, layer_idx, filter_indices=idx)\n",
    "    \n",
    "    # Utility to overlay text on image.\n",
    "    img = utils.draw_text(img, 'Filter {}'.format(idx))\n",
    "    img = img.reshape((28,56))\n",
    "    vis_images.append(img)\n",
    "\n",
    "# Generate stitched image palette with 8 cols.\n",
    "stitched = utils.stitch_images(vis_images, cols=8)    \n",
    "plt.axis('off')\n",
    "plt.imshow(stitched)\n",
    "plt.title(layer_name)\n",
    "plt.show()"
   ]
  },
  {
   "cell_type": "code",
   "execution_count": null,
   "metadata": {},
   "outputs": [],
   "source": [
    "img.shape"
   ]
  },
  {
   "cell_type": "code",
   "execution_count": null,
   "metadata": {
    "collapsed": true
   },
   "outputs": [],
   "source": []
  }
 ],
 "metadata": {
  "kernelspec": {
   "display_name": "Python 3",
   "language": "python",
   "name": "python3"
  },
  "language_info": {
   "codemirror_mode": {
    "name": "ipython",
    "version": 3
   },
   "file_extension": ".py",
   "mimetype": "text/x-python",
   "name": "python",
   "nbconvert_exporter": "python",
   "pygments_lexer": "ipython3",
   "version": "3.6.9"
  }
 },
 "nbformat": 4,
 "nbformat_minor": 2
}
